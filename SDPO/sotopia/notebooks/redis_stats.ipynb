{
 "cells": [
  {
   "cell_type": "markdown",
   "metadata": {},
   "source": [
    "## Redis Stats Guidance\n",
    "\n",
    "In this notebook, we will explain what is stored and provided inside the redis database. What is the structure of each type of data including agent profile, relationship profile, environment profile, agentenv combo profile, and episodelog profile. Additionally, this notebook provides statistical information about how many datapoints are inside the provided database."
   ]
  },
  {
   "cell_type": "code",
   "execution_count": 2,
   "metadata": {
    "ExecutionIndicator": {
     "show": true
    },
    "execution": {
     "iopub.execute_input": "2024-09-02T11:54:26.211798Z",
     "iopub.status.busy": "2024-09-02T11:54:26.211241Z",
     "iopub.status.idle": "2024-09-02T11:54:36.332510Z",
     "shell.execute_reply": "2024-09-02T11:54:36.331669Z",
     "shell.execute_reply.started": "2024-09-02T11:54:26.211770Z"
    },
    "tags": []
   },
   "outputs": [
    {
     "name": "stdout",
     "output_type": "stream",
     "text": [
      "/bin/bash: 行 1: conda: 未找到命令\n"
     ]
    },
    {
     "ename": "ModuleNotFoundError",
     "evalue": "No module named 'sotopia'",
     "output_type": "error",
     "traceback": [
      "\u001b[0;31m---------------------------------------------------------------------------\u001b[0m",
      "\u001b[0;31mModuleNotFoundError\u001b[0m                       Traceback (most recent call last)",
      "Cell \u001b[0;32mIn[2], line 7\u001b[0m\n\u001b[1;32m      5\u001b[0m \u001b[38;5;28;01mimport\u001b[39;00m \u001b[38;5;21;01mrich\u001b[39;00m\n\u001b[1;32m      6\u001b[0m \u001b[38;5;28;01mfrom\u001b[39;00m \u001b[38;5;21;01mcollections\u001b[39;00m \u001b[38;5;28;01mimport\u001b[39;00m Counter\n\u001b[0;32m----> 7\u001b[0m \u001b[38;5;28;01mfrom\u001b[39;00m \u001b[38;5;21;01msotopia\u001b[39;00m\u001b[38;5;21;01m.\u001b[39;00m\u001b[38;5;21;01mdatabase\u001b[39;00m\u001b[38;5;21;01m.\u001b[39;00m\u001b[38;5;21;01mpersistent_profile\u001b[39;00m \u001b[38;5;28;01mimport\u001b[39;00m (\n\u001b[1;32m      8\u001b[0m     AgentProfile,\n\u001b[1;32m      9\u001b[0m     EnvironmentProfile,\n\u001b[1;32m     10\u001b[0m     RelationshipProfile,\n\u001b[1;32m     11\u001b[0m )\n\u001b[1;32m     12\u001b[0m \u001b[38;5;28;01mfrom\u001b[39;00m \u001b[38;5;21;01msotopia\u001b[39;00m\u001b[38;5;21;01m.\u001b[39;00m\u001b[38;5;21;01mdatabase\u001b[39;00m\u001b[38;5;21;01m.\u001b[39;00m\u001b[38;5;21;01mlogs\u001b[39;00m \u001b[38;5;28;01mimport\u001b[39;00m EpisodeLog\n\u001b[1;32m     13\u001b[0m \u001b[38;5;28;01mfrom\u001b[39;00m \u001b[38;5;21;01msotopia\u001b[39;00m\u001b[38;5;21;01m.\u001b[39;00m\u001b[38;5;21;01mdatabase\u001b[39;00m\u001b[38;5;21;01m.\u001b[39;00m\u001b[38;5;21;01menv_agent_combo_storage\u001b[39;00m \u001b[38;5;28;01mimport\u001b[39;00m EnvAgentComboStorage\n",
      "\u001b[0;31mModuleNotFoundError\u001b[0m: No module named 'sotopia'"
     ]
    }
   ],
   "source": [
    "!source /mnt/coai-nas/yibai/anaconda3/bin/activate\n",
    "!conda activate soto\n",
    "import os\n",
    "import sys\n",
    "import rich\n",
    "from collections import Counter\n",
    "from sotopia.database.persistent_profile import (\n",
    "    AgentProfile,\n",
    "    EnvironmentProfile,\n",
    "    RelationshipProfile,\n",
    ")\n",
    "from sotopia.database.logs import EpisodeLog\n",
    "from sotopia.database.env_agent_combo_storage import EnvAgentComboStorage\n",
    "\n",
    "sys.path.append(\"../\")\n",
    "os.environ[\"REDIS_OM_URL\"] = \"redis://:QzmCUD3C3RdsR@localhost:6379\""
   ]
  },
  {
   "cell_type": "markdown",
   "metadata": {},
   "source": [
    "## Relationship Profile\n",
    "\n",
    "RelationshipProfile stores the information about different relationship between agents."
   ]
  },
  {
   "cell_type": "code",
   "execution_count": null,
   "metadata": {},
   "outputs": [],
   "source": [
    "res_pks = RelationshipProfile.all_pks()\n",
    "res_pks = list(res_pks)\n",
    "print(len(res_pks))\n",
    "res = []\n",
    "for pk in res_pks:\n",
    "    try:\n",
    "        res.append(RelationshipProfile.get(pk=pk))\n",
    "    except Exception:\n",
    "        print(\"error\")\n",
    "        pass\n",
    "res_relationships = [r.relationship for r in res]\n",
    "Counter(res_relationships)"
   ]
  },
  {
   "cell_type": "markdown",
   "metadata": {},
   "source": [
    "## Agents Profile\n",
    "\n",
    "AgentProfile stores the information about each agent."
   ]
  },
  {
   "cell_type": "code",
   "execution_count": null,
   "metadata": {},
   "outputs": [],
   "source": [
    "# obtain a specific agent\n",
    "agents = AgentProfile.find(AgentProfile.first_name == \"ss\").all()\n",
    "rich.print(agents)"
   ]
  },
  {
   "cell_type": "code",
   "execution_count": null,
   "metadata": {},
   "outputs": [],
   "source": [
    "# find specific agnets\n",
    "agents = AgentProfile.find(AgentProfile.gender == \"Man\", AgentProfile.age > 30)\n",
    "agents = agents.all()\n",
    "print(len(agents))\n",
    "rich.print(agents[0])"
   ]
  },
  {
   "cell_type": "code",
   "execution_count": null,
   "metadata": {},
   "outputs": [],
   "source": [
    "# obtain all agents' basic info\n",
    "agent_pks = AgentProfile.all_pks()\n",
    "agent_pks = list(agent_pks)\n",
    "agents = []\n",
    "for pk in agent_pks:\n",
    "    try:\n",
    "        agents.append(AgentProfile.get(pk=pk))\n",
    "    except Exception:\n",
    "        print(\"error\")\n",
    "        pass\n",
    "print(len(agents))\n",
    "rich.print(agents[0])"
   ]
  },
  {
   "cell_type": "code",
   "execution_count": null,
   "metadata": {},
   "outputs": [],
   "source": [
    "agent_pks = AgentProfile.all_pks()\n",
    "agent_pks = list(agent_pks)\n",
    "print(len(agent_pks))"
   ]
  },
  {
   "cell_type": "code",
   "execution_count": null,
   "metadata": {},
   "outputs": [],
   "source": [
    "# Update agent's information\n",
    "agents = AgentProfile.find(\n",
    "    AgentProfile.first_name == \"Ava\", AgentProfile.last_name == \"Martinez\"\n",
    ").all()[0]"
   ]
  },
  {
   "cell_type": "code",
   "execution_count": null,
   "metadata": {},
   "outputs": [],
   "source": [
    "agents.update(secret=\"Keeps their bisexuality a secret from her conservative family\")"
   ]
  },
  {
   "cell_type": "markdown",
   "metadata": {},
   "source": [
    "## Environment Profile\n",
    "\n",
    "EnvironmentProfile stores the information about social scenario. "
   ]
  },
  {
   "cell_type": "code",
   "execution_count": null,
   "metadata": {},
   "outputs": [],
   "source": [
    "# get all environments\n",
    "all_envs = list(EnvironmentProfile.all_pks())\n",
    "print(len(all_envs))\n",
    "print(all_envs[:5])"
   ]
  },
  {
   "cell_type": "code",
   "execution_count": null,
   "metadata": {},
   "outputs": [],
   "source": [
    "# get a specific environment profile\n",
    "env_profile_id = all_envs[0]\n",
    "env = EnvironmentProfile.get(env_profile_id)\n",
    "rich.print(env)"
   ]
  },
  {
   "cell_type": "markdown",
   "metadata": {},
   "source": [
    "## EnvAgentComboStorage\n",
    "Identify the combination of environment and agent that is used in the episodes.\n",
    "Once we have the combination, we can use it to start the simulation.\n",
    "Combo is a combination of Environment and two agents."
   ]
  },
  {
   "cell_type": "code",
   "execution_count": null,
   "metadata": {},
   "outputs": [],
   "source": [
    "# all env-agent combos\n",
    "all_combos = EnvAgentComboStorage().all_pks()\n",
    "all_combos = list(all_combos)\n",
    "print(len(all_combos))\n",
    "rich.print(EnvAgentComboStorage().get(all_combos[0]))"
   ]
  },
  {
   "cell_type": "markdown",
   "metadata": {},
   "source": [
    "## EnvironmentList\n",
    "Store a list of special environments (e.g., sotopia hard) that can be used to start certain simulations. Agent index is used to identify the special agent in the simulation."
   ]
  },
  {
   "cell_type": "code",
   "execution_count": null,
   "metadata": {},
   "outputs": [],
   "source": [
    "from sotopia.database.persistent_profile import EnvironmentList\n",
    "\n",
    "all_list = EnvironmentList.all_pks()\n",
    "all_list = list(all_list)\n",
    "print(len(all_list))"
   ]
  },
  {
   "cell_type": "code",
   "execution_count": null,
   "metadata": {},
   "outputs": [],
   "source": [
    "from sotopia.samplers import ConstraintBasedSampler\n",
    "from sotopia.messages import AgentAction, Observation\n",
    "from sotopia.agents import LLMAgent\n",
    "import json\n",
    "# In this example, we will demonstrate using the EnvironmentList class to sample a list of EnvAgentComboStorage and serialize it to a json file that can be used for sharing with others for benchmarking purposes.\n",
    "\n",
    "\n",
    "def _sample_env_agent_combo_and_push_to_db(env_id: str) -> list[EnvAgentComboStorage]:\n",
    "    combo_list = []\n",
    "    sampler = ConstraintBasedSampler[Observation, AgentAction](env_candidates=[env_id])\n",
    "    env_agent_combo_list = list(\n",
    "        sampler.sample(agent_classes=[LLMAgent] * 2, replacement=False, size=10)\n",
    "    )\n",
    "    for env, agent in env_agent_combo_list:\n",
    "        combo = EnvAgentComboStorage(\n",
    "            env_id=env.profile.pk,\n",
    "            agent_ids=[agent[0].profile.pk, agent[1].profile.pk],\n",
    "        )\n",
    "        combo_list.append(combo)\n",
    "    return combo_list\n",
    "\n",
    "\n",
    "# First we will extrat the hard environments from the EnvironmentList\n",
    "hard_envs = EnvironmentList.get(\"01HAK34YPB1H1RWXQDASDKHSNS\").environments\n",
    "print(len(hard_envs))\n",
    "hard_envs_set = set(hard_envs)\n",
    "\n",
    "# Next we will sample 10 EnvAgentComboStorage from each hard environment\n",
    "final_list_for_benchmark_agents = []\n",
    "for env in hard_envs_set:\n",
    "    combo_list = EnvAgentComboStorage.find(EnvAgentComboStorage.env_id == env).all()\n",
    "    print(len(combo_list))\n",
    "    final_list_for_benchmark_agents.extend(combo_list)\n",
    "\n",
    "# Finally we will serialize the list to a json file\n",
    "with open(\"../data/benchmark_agents.json\", \"w\") as f:\n",
    "    json.dump(\n",
    "        [combo.dict() for combo in final_list_for_benchmark_agents],\n",
    "        f,\n",
    "        indent=4,\n",
    "    )"
   ]
  },
  {
   "cell_type": "code",
   "execution_count": null,
   "metadata": {},
   "outputs": [],
   "source": [
    "EnvironmentList.get(\"01HAK34YPB1H1RWXQDASDKHSNS\")"
   ]
  },
  {
   "cell_type": "markdown",
   "metadata": {},
   "source": [
    "## Episode Log"
   ]
  },
  {
   "cell_type": "code",
   "execution_count": null,
   "metadata": {},
   "outputs": [],
   "source": [
    "# find episode log by tag\n",
    "Episodes = EpisodeLog.find(EpisodeLog.tag == \"aug20_gpt4_llama-2-70b-chat_zqi2\").all()\n",
    "len(Episodes)  ## Episode Log\n",
    "\n",
    "## Episodelog stores the social conversation between two agents in an environment."
   ]
  },
  {
   "cell_type": "code",
   "execution_count": null,
   "metadata": {},
   "outputs": [],
   "source": [
    "# get all episode logs' primary keys\n",
    "episode_pks = EpisodeLog.all_pks()\n",
    "episode_pks = list(episode_pks)\n",
    "print(len(episode_pks))\n",
    "print(episode_pks[0])"
   ]
  },
  {
   "cell_type": "code",
   "execution_count": null,
   "metadata": {},
   "outputs": [],
   "source": [
    "test_ep = EpisodeLog.get(episode_pks[0])\n",
    "agent_profiles, conversation = test_ep.render_for_humans()\n",
    "for agent_profile in agent_profiles:\n",
    "    rich.print(agent_profile)\n",
    "for message in conversation:\n",
    "    rich.print(message)"
   ]
  },
  {
   "cell_type": "code",
   "execution_count": null,
   "metadata": {},
   "outputs": [],
   "source": [
    "# get the epilogs that contain the specified models\n",
    "model1 = \"gpt-4\"\n",
    "model2 = \"gpt-4\"\n",
    "model_comp1 = [\"gpt-4\", model1, model2]\n",
    "model_comp2 = [\"gpt-4\", model2, model1]\n",
    "\n",
    "gpt4_gpt4_eps = []\n",
    "for epid in episode_pks:\n",
    "    try:\n",
    "        curr_ep = EpisodeLog.get(epid)\n",
    "    except Exception:\n",
    "        continue\n",
    "    if curr_ep.models == model_comp1 or curr_ep.models == model_comp2:\n",
    "        gpt4_gpt4_eps.append(curr_ep)\n",
    "len(gpt4_gpt4_eps)"
   ]
  },
  {
   "cell_type": "code",
   "execution_count": null,
   "metadata": {},
   "outputs": [],
   "source": [
    "agent_profiles, conversation = gpt4_gpt4_eps[0].render_for_humans()\n",
    "for agent_profile in agent_profiles:\n",
    "    rich.print(agent_profile)\n",
    "for message in conversation:\n",
    "    rich.print(message)"
   ]
  }
 ],
 "metadata": {
  "kernelspec": {
   "display_name": "Python 3 (ipykernel)",
   "language": "python",
   "name": "python3"
  },
  "language_info": {
   "codemirror_mode": {
    "name": "ipython",
    "version": 3
   },
   "file_extension": ".py",
   "mimetype": "text/x-python",
   "name": "python",
   "nbconvert_exporter": "python",
   "pygments_lexer": "ipython3",
   "version": "3.11.0"
  }
 },
 "nbformat": 4,
 "nbformat_minor": 4
}
