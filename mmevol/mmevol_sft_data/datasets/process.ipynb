{
 "cells": [
  {
   "cell_type": "code",
   "execution_count": 4,
   "metadata": {},
   "outputs": [
    {
     "name": "stderr",
     "output_type": "stream",
     "text": [
      "100%|██████████| 1612/1612 [00:15<00:00, 103.12it/s]\n"
     ]
    }
   ],
   "source": [
    "import json\n",
    "import os\n",
    "import os.path as osp\n",
    "from tqdm import tqdm\n",
    "import shutil\n",
    "\n",
    "# Construct hash_id to create a unique index, because both id and image key values ​​have duplicate values\n",
    "datasets_path = \"/mnt/data/haonan/code/mmevol_sft_data/datasets\"\n",
    "\n",
    "a = json.load(open(osp.join(datasets_path, \"seed_data_1k_demo.json\"), \"r\"))\n",
    "for index, i in enumerate(a):\n",
    "    i[\"hash_id\"] = str(index) + \"_\" + i[\"image\"].replace(\"/\", \"_\")\n",
    "\n",
    "json.dump(a, open(\"/mnt/data/haonan/code/mmevol_sft_data/datasets/seed_data_1k_demo.json\", \"w\"), indent=4)\n",
    "\n",
    "# If the data format is already well organized, store it separately in meta data\n",
    "if os.path.exists(osp.join(datasets_path, \"meta_data\")):\n",
    "    shutil.rmtree(osp.join(datasets_path, \"meta_data\"))\n",
    "    os.mkdir(osp.join(datasets_path, \"meta_data\"))\n",
    "\n",
    "data = json.load(open(osp.join(datasets_path, \"seed_data_1k_demo.json\"), \"r\"))\n",
    "\n",
    "for index, d in enumerate(tqdm(data)):\n",
    "    json.dump(d, open(osp.join(datasets_path, \"meta_data\", \"{}.json\".format(d[\"hash_id\"])), \"w\"), indent=4)"
   ]
  }
 ],
 "metadata": {
  "kernelspec": {
   "display_name": "Python 3",
   "language": "python",
   "name": "python3"
  },
  "language_info": {
   "codemirror_mode": {
    "name": "ipython",
    "version": 3
   },
   "file_extension": ".py",
   "mimetype": "text/x-python",
   "name": "python",
   "nbconvert_exporter": "python",
   "pygments_lexer": "ipython3",
   "version": "3.10.14"
  }
 },
 "nbformat": 4,
 "nbformat_minor": 2
}
