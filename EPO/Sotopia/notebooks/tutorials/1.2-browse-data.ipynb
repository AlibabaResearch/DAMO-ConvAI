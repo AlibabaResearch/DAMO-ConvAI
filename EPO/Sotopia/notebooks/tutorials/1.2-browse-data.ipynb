{
 "cells": [
  {
   "cell_type": "markdown",
   "metadata": {
    "id": "EIQMxzgqlRX7"
   },
   "source": [
    "<p align=\"center\"><img src=\"https://github.com/sotopia-lab/sotopia/blob/main/figs/title.png?raw=true\" alt=\"drawing\" width=\"100%\"/></p>"
   ]
  },
  {
   "cell_type": "markdown",
   "metadata": {
    "id": "ocrtYaex1s0h"
   },
   "source": [
    "# Sotopia Tutorial Series\n",
    "\n",
    "<a href=\"https://colab.research.google.com/github/sotopia-lab/sotopia/blob/main/notebooks/tutorials/1.2-browse-data.ipynb\" target=\"_parent\"> <img src=\"https://colab.research.google.com/assets/colab-badge.svg\" alt=\"Open In Colab\"> </img> </a>\n",
    "\n",
    "The following is the second tutorial of this series to teach how to quickly build your socially intelligent agents on the sotopia platform.\n",
    "\n",
    "## Quick links\n",
    "\n",
    "1. Basics\n",
    "    \n",
    "    1.1 [Playing with Sotopia in a Google Colab Notebook](https://colab.research.google.com/drive/14hJOfzpA37PRUzdlFgiqVzUGIhhngqnz?usp=sharing)\n",
    "    \n",
    "    1.2 [Browsing sotopia data](https://colab.research.google.com/drive/1Gi2U3cA0KG1nekw1A0N0DZpx6gKrj8Nc?usp=sharing)\n",
    "\n",
    "2. Build your agents (coming soon!)\n",
    "3. Evaluate your agents (coming soon!)\n",
    "4. Extending Sotopia (coming soon!)\n",
    "\n",
    "Please contact [Hao Zhu](https://zhuhao.me) for any questions!"
   ]
  },
  {
   "cell_type": "markdown",
   "metadata": {
    "id": "Fe0-ncx5U8q7"
   },
   "source": [
    "\n",
    "# 1.2 Browsing [Sotopia](https://sotopia.world) data\n",
    "\n",
    "Author: [Hao Zhu](https://zhuhao.me)\n",
    "\n",
    "Running the code in this tutorial does not require familiarity of the redis setup. But if you have finished [Tutorial 1.1](https://colab.research.google.com/drive/14hJOfzpA37PRUzdlFgiqVzUGIhhngqnz?usp=sharing), you would have a better idea of the characters (in the format of `sotopia.database.AgentProfile`) and social tasks (in the format of `sotopia.database.EnvironmentProfile`). What you would be able to learn through this tutorial are:\n",
    "\n",
    "1. How to load all of the existing data from sotopia(-pi) experiments, including 40 characters, hundreds of scenarios, and tens of thousands of interaction episodes.\n",
    "2. How to browse them through indexing based on two awesome libraries `redis-om` and `pydantic`."
   ]
  },
  {
   "cell_type": "markdown",
   "metadata": {
    "id": "DYRSxB4pWfDS"
   },
   "source": [
    "## Install Redis\n",
    "\n"
   ]
  },
  {
   "cell_type": "code",
   "execution_count": null,
   "metadata": {
    "cellView": "form",
    "id": "IJRC8SkzRteQ"
   },
   "outputs": [],
   "source": [
    "# @title Download Redis: This code block is exactly the same as [Tutorial 1.1](https://colab.research.google.com/drive/14hJOfzpA37PRUzdlFgiqVzUGIhhngqnz?usp=sharing).\n",
    "%%capture\n",
    "!curl -fsSL https://packages.redis.io/redis-stack/redis-stack-server-7.2.0-v10.focal.x86_64.tar.gz -o redis-stack-server.tar.gz\n",
    "!tar -xvf redis-stack-server.tar.gz\n",
    "# Installs libssl1.1 for Ubuntu 22 source: https://stackoverflow.com/questions/72133316/libssl-so-1-1-cannot-open-shared-object-file-no-such-file-or-directory\n",
    "!wget http://nz2.archive.ubuntu.com/ubuntu/pool/main/o/openssl/libssl1.1_1.1.1f-1ubuntu2.22_amd64.deb\n",
    "!sudo dpkg -i libssl1.1_1.1.1f-1ubuntu2.22_amd64.deb\n",
    "%pip install redis"
   ]
  },
  {
   "cell_type": "code",
   "execution_count": null,
   "metadata": {
    "cellView": "form",
    "id": "GlqtKYDmR2Ij"
   },
   "outputs": [],
   "source": [
    "%%capture\n",
    "# @title Download existing data in a single file, and launch redis\n",
    "\n",
    "!mkdir -p /content/redis-stack-server-7.2.0-v10/var/db/redis-stack\n",
    "!curl -L https://huggingface.co/datasets/cmu-lti/sotopia-pi/resolve/main/dump.rdb?download=true --output /content/redis-stack-server-7.2.0-v10/var/db/redis-stack/dump.rdb\n",
    "!./redis-stack-server-7.2.0-v10/bin/redis-stack-server --daemonize yes"
   ]
  },
  {
   "cell_type": "markdown",
   "metadata": {
    "id": "bIf7Nni3XEQk"
   },
   "source": [
    "If the above cell results in no error message, you have successfully set up your Redis server."
   ]
  },
  {
   "cell_type": "code",
   "execution_count": null,
   "metadata": {
    "cellView": "form",
    "colab": {
     "base_uri": "https://localhost:8080/"
    },
    "id": "gNgwAngBR7vC",
    "outputId": "321eb7f8-29c1-4d84-aa9a-2f114a4f8f49"
   },
   "outputs": [],
   "source": [
    "# @title Your DB is now pre-populated with existing data:\n",
    "\n",
    "import redis\n",
    "from redis import BusyLoadingError\n",
    "import time\n",
    "\n",
    "client = redis.Redis(host=\"localhost\", port=6379)\n",
    "while True:\n",
    "    try:\n",
    "        client.ping()\n",
    "        break\n",
    "    except BusyLoadingError:\n",
    "        time.sleep(1)\n",
    "print(f\"Voila, you have loaded {client.dbsize()} data!\")"
   ]
  },
  {
   "cell_type": "markdown",
   "metadata": {
    "id": "RISoihCJXdiL"
   },
   "source": [
    "## Browse the data you have just loaded"
   ]
  },
  {
   "cell_type": "code",
   "execution_count": null,
   "metadata": {
    "cellView": "form",
    "id": "ne2r-KmxXpNS"
   },
   "outputs": [],
   "source": [
    "# @title First, install sotopia\n",
    "%%capture\n",
    "%pip install sotopia\n",
    "import os\n",
    "\n",
    "os.environ[\"REDIS_OM_URL\"] = \"redis://:@localhost:6379\""
   ]
  },
  {
   "cell_type": "code",
   "execution_count": null,
   "metadata": {
    "cellView": "form",
    "colab": {
     "base_uri": "https://localhost:8080/",
     "height": 353
    },
    "id": "ImjdFUlGGA4_",
    "outputId": "df1abaac-fce7-4e14-fd84-0dc3d96d8521"
   },
   "outputs": [],
   "source": [
    "# @title Show me a random character\n",
    "import random\n",
    "from rich import print\n",
    "\n",
    "from sotopia.database import AgentProfile\n",
    "\n",
    "\n",
    "all_character_pks = list(AgentProfile.all_pks())\n",
    "pk = random.choice(all_character_pks)\n",
    "\n",
    "print(AgentProfile.get(pk))"
   ]
  },
  {
   "cell_type": "code",
   "execution_count": null,
   "metadata": {
    "cellView": "form",
    "colab": {
     "base_uri": "https://localhost:8080/",
     "height": 321
    },
    "id": "Su5EwfIPHQWp",
    "outputId": "47e36153-fa91-4a34-cc5b-80dea2e516dd"
   },
   "outputs": [],
   "source": [
    "# @title Show me a random social task\n",
    "from sotopia.database import EnvironmentProfile\n",
    "\n",
    "all_task_pks = list(EnvironmentProfile.all_pks())\n",
    "pk = random.choice(all_task_pks)\n",
    "\n",
    "print(EnvironmentProfile.get(pk))"
   ]
  },
  {
   "cell_type": "code",
   "execution_count": null,
   "metadata": {
    "cellView": "form",
    "colab": {
     "base_uri": "https://localhost:8080/",
     "height": 1000
    },
    "id": "SFW9PRzzH1Pt",
    "outputId": "d53ab793-6740-4e69-9fc7-3a911c892aa1"
   },
   "outputs": [],
   "source": [
    "# @title Show me an Episode of the random social task before\n",
    "\n",
    "from sotopia.database import EpisodeLog\n",
    "\n",
    "all_episodes = list(EpisodeLog.find(EpisodeLog.environment == pk).all())\n",
    "if len(all_episodes) == 0:\n",
    "    print(\"No episodes found for this task, Please try to sample another task.\")\n",
    "else:\n",
    "    episode = random.choice(all_episodes)\n",
    "    print(episode)"
   ]
  },
  {
   "cell_type": "markdown",
   "metadata": {
    "id": "dYx2N8njZAIi"
   },
   "source": [
    "### Find all young chefs in Sotopia\n",
    "\n",
    "Powered by `redis_om`, the database of sotopia can be easily indexed by simple logics"
   ]
  },
  {
   "cell_type": "code",
   "execution_count": null,
   "metadata": {
    "colab": {
     "base_uri": "https://localhost:8080/",
     "height": 33
    },
    "id": "7mAMGMXgYGRE",
    "outputId": "8b85b2fa-c3de-4054-d466-223530ceea18"
   },
   "outputs": [],
   "source": [
    "young_chefs = AgentProfile.find(\n",
    "    (AgentProfile.occupation == \"Chef\") & (AgentProfile.age < 45)\n",
    ").all()\n",
    "print(\n",
    "    f\"There are {len(young_chefs)} young chefs in sotopia. They are: {', '.join(chef.first_name for chef in young_chefs)}\"\n",
    ")"
   ]
  },
  {
   "cell_type": "markdown",
   "metadata": {
    "id": "8iIG2EWOa1A1"
   },
   "source": [
    "### Tagging system in Sotopia\n",
    "\n",
    "You might notice that Sotopia episodes are all \"tagged\" which allows for tracing the source of the generation. You can list all of the tags"
   ]
  },
  {
   "cell_type": "code",
   "execution_count": null,
   "metadata": {
    "colab": {
     "base_uri": "https://localhost:8080/"
    },
    "id": "sDST-ZcJeubQ",
    "outputId": "1750cc27-909d-4b93-9d5d-b3f8e8cfc82d"
   },
   "outputs": [],
   "source": [
    "def get_episode_tag(episode_id):\n",
    "    try:\n",
    "        episode = EpisodeLog.get(episode_id)\n",
    "        return episode.tag\n",
    "    except Exception as _:\n",
    "        return \"\"\n",
    "\n",
    "\n",
    "set(get_episode_tag(episode) for episode in EpisodeLog.all_pks())"
   ]
  },
  {
   "cell_type": "markdown",
   "metadata": {
    "id": "9YNRGLsRfMvG"
   },
   "source": [
    "## Conclusion\n",
    "\n",
    "In this very short tutorial, I demonstrated how to load the existing data from sotopia(-pi) experiments and browse the data with the easy-to-use api in sotopia. You can enumerate or find a random character and social task, and you can also index the interaction episodes with the task id or character id."
   ]
  }
 ],
 "metadata": {
  "colab": {
   "provenance": []
  },
  "kernelspec": {
   "display_name": "Python 3 (ipykernel)",
   "language": "python",
   "name": "python3"
  },
  "language_info": {
   "codemirror_mode": {
    "name": "ipython",
    "version": 3
   },
   "file_extension": ".py",
   "mimetype": "text/x-python",
   "name": "python",
   "nbconvert_exporter": "python",
   "pygments_lexer": "ipython3",
   "version": "3.10.14"
  }
 },
 "nbformat": 4,
 "nbformat_minor": 4
}
