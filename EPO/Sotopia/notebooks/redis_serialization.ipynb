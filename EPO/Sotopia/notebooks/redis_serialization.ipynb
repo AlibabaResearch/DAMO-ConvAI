{
 "cells": [
  {
   "cell_type": "markdown",
   "metadata": {},
   "source": [
    "# Redis Serialization Guidance\n",
    "\n",
    "In this notebook, we will explain how to utilize serialization and deserialization function provided in sotopia, achieving the convertion between jsonline / CSV and redis database. Based on these functions, you can freely convert from database to files."
   ]
  },
  {
   "cell_type": "code",
   "execution_count": null,
   "metadata": {},
   "outputs": [],
   "source": [
    "import sys\n",
    "import os\n",
    "from typing import get_args\n",
    "from pydantic import ValidationError\n",
    "from sotopia.database import (\n",
    "    AgentProfile,\n",
    "    EnvironmentProfile,\n",
    "    RelationshipProfile,\n",
    "    EpisodeLog,\n",
    ")\n",
    "from sotopia.database import (\n",
    "    episodes_to_csv,\n",
    "    episodes_to_jsonl,\n",
    "    agentprofiles_to_csv,\n",
    "    agentprofiles_to_jsonl,\n",
    "    environmentprofiles_to_csv,\n",
    "    environmentprofiles_to_jsonl,\n",
    "    relationshipprofiles_to_csv,\n",
    "    relationshipprofiles_to_jsonl,\n",
    "    envagnetcombostorage_to_csv,\n",
    "    envagnetcombostorage_to_jsonl,\n",
    "    jsonl_to_episodes,\n",
    "    jsonl_to_agentprofiles,\n",
    "    jsonl_to_environmentprofiles,\n",
    "    jsonl_to_relationshipprofiles,\n",
    "    jsonl_to_envagnetcombostorage,\n",
    ")\n",
    "from sotopia.database.env_agent_combo_storage import EnvAgentComboStorage\n",
    "from typing import Literal\n",
    "from pprint import pprint\n",
    "\n",
    "sys.path.append(\"../\")\n",
    "os.environ[\"REDIS_OM_URL\"] = \"redis://:QzmCUD3C3RdsR@localhost:6379\""
   ]
  },
  {
   "cell_type": "markdown",
   "metadata": {},
   "source": [
    "### Episodes Log Serialization"
   ]
  },
  {
   "cell_type": "code",
   "execution_count": null,
   "metadata": {},
   "outputs": [],
   "source": [
    "LLM_Name = Literal[\n",
    "    \"togethercomputer/llama-2-7b-chat\",\n",
    "    \"togethercomputer/llama-2-70b-chat\",\n",
    "    \"togethercomputer/mpt-30b-chat\",\n",
    "    \"gpt-3.5-turbo\",\n",
    "    \"text-davinci-003\",\n",
    "    \"gpt-4\",\n",
    "    \"gpt-4-turbo\",\n",
    "    \"human\",\n",
    "    \"redis\",\n",
    "]\n",
    "\n",
    "\n",
    "def _is_valid_episode_log_pk(pk: str) -> bool:\n",
    "    try:\n",
    "        episode = EpisodeLog.get(pk=pk)\n",
    "    except ValidationError:\n",
    "        return False\n",
    "    try:\n",
    "        tag = episode.tag\n",
    "        model_1, model_2, version = tag.split(\"_\", maxsplit=2)\n",
    "        if (\n",
    "            model_1 in get_args(LLM_Name)\n",
    "            and model_2 in get_args(LLM_Name)\n",
    "            and version == \"v0.0.1_clean\"\n",
    "        ):\n",
    "            return True\n",
    "        else:\n",
    "            return False\n",
    "    except (ValueError, AttributeError):\n",
    "        # ValueError: tag has less than 3 parts\n",
    "        # AttributeError: tag is None\n",
    "        return False\n",
    "\n",
    "\n",
    "episodes: list[EpisodeLog] = [\n",
    "    EpisodeLog.get(pk=pk)\n",
    "    for pk in filter(_is_valid_episode_log_pk, EpisodeLog.all_pks())\n",
    "]\n",
    "pprint(episodes[0])"
   ]
  },
  {
   "cell_type": "code",
   "execution_count": null,
   "metadata": {},
   "outputs": [],
   "source": [
    "episodes_to_csv(episodes, \"../data/sotopia_episodes_v1.csv\")\n",
    "episodes_to_jsonl(episodes, \"../data/sotopia_episodes_v1.jsonl\")\n",
    "rebuild_episodes = jsonl_to_episodes(\"../data/sotopia_episodes_v1.jsonl\")\n",
    "pprint(rebuild_episodes[0])"
   ]
  },
  {
   "cell_type": "markdown",
   "metadata": {},
   "source": [
    "## Relationship Profile Serialization"
   ]
  },
  {
   "cell_type": "code",
   "execution_count": null,
   "metadata": {},
   "outputs": [],
   "source": [
    "pks = RelationshipProfile.all_pks()\n",
    "pks = list(pks)\n",
    "res = []\n",
    "for pk in pks:\n",
    "    try:\n",
    "        res.append(RelationshipProfile.get(pk=pk))\n",
    "    except ValidationError:\n",
    "        print(\"error\")\n",
    "        pass\n",
    "pprint(res[0])"
   ]
  },
  {
   "cell_type": "code",
   "execution_count": null,
   "metadata": {},
   "outputs": [],
   "source": [
    "relationshipprofiles_to_csv(res, \"../data/sotopia_relationshipprofiles_v1.csv\")\n",
    "relationshipprofiles_to_jsonl(res, \"../data/sotopia_relationshipprofiles_v1.jsonl\")\n",
    "relationship_profiles = jsonl_to_relationshipprofiles(\n",
    "    \"../data/sotopia_relationshipprofiles_v1.jsonl\"\n",
    ")\n",
    "pprint(relationship_profiles[0])"
   ]
  },
  {
   "cell_type": "markdown",
   "metadata": {},
   "source": [
    "## Agents Profile Serialization"
   ]
  },
  {
   "cell_type": "code",
   "execution_count": null,
   "metadata": {},
   "outputs": [],
   "source": [
    "pks = AgentProfile.all_pks()\n",
    "pks = list(pks)\n",
    "res = []\n",
    "for pk in pks:\n",
    "    try:\n",
    "        res.append(AgentProfile.get(pk=pk))\n",
    "    except ValidationError:\n",
    "        print(\"error\")\n",
    "        pass\n",
    "pprint(res[0])"
   ]
  },
  {
   "cell_type": "code",
   "execution_count": null,
   "metadata": {},
   "outputs": [],
   "source": [
    "agentprofiles_to_csv(res, \"../data/sotopia_agentprofiles_v1.csv\")\n",
    "agentprofiles_to_jsonl(res, \"../data/sotopia_agentprofiles_v1.jsonl\")\n",
    "agent_profiles = jsonl_to_agentprofiles(\"../data/sotopia_agentprofiles_v1.jsonl\")\n",
    "pprint(agent_profiles[0])"
   ]
  },
  {
   "cell_type": "markdown",
   "metadata": {},
   "source": [
    "## Environment Profile Serialization"
   ]
  },
  {
   "cell_type": "code",
   "execution_count": null,
   "metadata": {},
   "outputs": [],
   "source": [
    "pks = EnvironmentProfile.all_pks()\n",
    "pks = list(pks)\n",
    "res = []\n",
    "for pk in pks:\n",
    "    try:\n",
    "        res.append(EnvironmentProfile.get(pk=pk))\n",
    "    except ValidationError:\n",
    "        print(\"error\")\n",
    "        pass\n",
    "pprint(res[0])"
   ]
  },
  {
   "cell_type": "code",
   "execution_count": null,
   "metadata": {},
   "outputs": [],
   "source": [
    "environmentprofiles_to_csv(res, \"../data/sotopia_environmentprofiles_v1.csv\")\n",
    "environmentprofiles_to_jsonl(res, \"../data/sotopia_environmentprofiles_v1.jsonl\")\n",
    "environment_profiles = jsonl_to_environmentprofiles(\n",
    "    \"../data/sotopia_environmentprofiles_v1.jsonl\"\n",
    ")\n",
    "pprint(environment_profiles[0])"
   ]
  },
  {
   "cell_type": "markdown",
   "metadata": {},
   "source": [
    "## EnvAgentComboStorage"
   ]
  },
  {
   "cell_type": "code",
   "execution_count": null,
   "metadata": {},
   "outputs": [],
   "source": [
    "pks = EnvAgentComboStorage.all_pks()\n",
    "pks = list(pks)\n",
    "res = []\n",
    "for pk in pks:\n",
    "    try:\n",
    "        res.append(EnvAgentComboStorage.get(pk=pk))\n",
    "    except ValidationError:\n",
    "        print(\"error\")\n",
    "        pass\n",
    "pprint(res[0])"
   ]
  },
  {
   "cell_type": "code",
   "execution_count": null,
   "metadata": {},
   "outputs": [],
   "source": [
    "envagnetcombostorage_to_csv(res, \"../data/sotopia_envagnetcombostorage_v1.csv\")\n",
    "envagnetcombostorage_to_jsonl(res, \"../data/sotopia_envagnetcombostorage_v1.jsonl\")\n",
    "envagnetcombostorage = jsonl_to_envagnetcombostorage(\n",
    "    \"../data/sotopia_envagnetcombostorage_v1.jsonl\"\n",
    ")\n",
    "pprint(envagnetcombostorage[0])"
   ]
  }
 ],
 "metadata": {
  "kernelspec": {
   "display_name": "sotopia",
   "language": "python",
   "name": "python3"
  },
  "language_info": {
   "codemirror_mode": {
    "name": "ipython",
    "version": 3
   },
   "file_extension": ".py",
   "mimetype": "text/x-python",
   "name": "python",
   "nbconvert_exporter": "python",
   "pygments_lexer": "ipython3",
   "version": "3.11.4"
  }
 },
 "nbformat": 4,
 "nbformat_minor": 2
}
